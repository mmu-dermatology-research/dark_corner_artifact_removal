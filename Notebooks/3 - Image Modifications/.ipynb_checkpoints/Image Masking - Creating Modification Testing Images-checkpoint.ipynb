{
 "cells": [
  {
   "cell_type": "markdown",
   "id": "b9c78895",
   "metadata": {},
   "source": [
    "# Image Masking\n",
    "\n",
    "This notebook is used to mask images that do not contain DCA's. The purpose of this is to create images to test the DCA removal processes with ground truth values for comparison.\n",
    "\n",
    "-------------\n",
    "\n",
    "## Standard Imports"
   ]
  },
  {
   "cell_type": "code",
   "execution_count": 1,
   "id": "2e4eb7d9",
   "metadata": {},
   "outputs": [],
   "source": [
    "# append custom system path for custom modules folder in directory if not already\n",
    "import sys\n",
    "if  '../../Modules' not in sys.path:\n",
    "    sys.path.insert(0, '../../Modules')\n",
    "\n",
    "import pandas as pd\n",
    "import numpy as np\n",
    "from PIL import Image\n",
    "import os, os.path\n",
    "import matplotlib as mpl\n",
    "import matplotlib.pyplot as plt\n",
    "from sklearn.utils import Bunch\n",
    "import cv2 as cv\n",
    "import image_modifications as im # custom image modification module\n",
    "import isic_data as isic"
   ]
  },
  {
   "cell_type": "markdown",
   "id": "12740ae0",
   "metadata": {},
   "source": [
    "---------\n",
    "## Data Loading"
   ]
  },
  {
   "cell_type": "code",
   "execution_count": 2,
   "id": "ad5bea54",
   "metadata": {},
   "outputs": [],
   "source": [
    "# Load in the image datasets\n",
    "X = isic.get_data(type = 'none')\n",
    "\n",
    "lesions_train = X[0]\n",
    "lesions_test = X[1]"
   ]
  },
  {
   "cell_type": "code",
   "execution_count": 3,
   "id": "dc5fa4c8",
   "metadata": {},
   "outputs": [],
   "source": [
    "# Load the training melanoma DCA masks\n",
    "filepath = r\"../../Data/DCA_Masks/train/mel/\"\n",
    "train_mel_masks = []\n",
    "for img in os.listdir(filepath):\n",
    "    image = Image.open(os.path.join(filepath, img))\n",
    "    train_mel_masks.append(np.asarray(image))"
   ]
  },
  {
   "cell_type": "code",
   "execution_count": 4,
   "id": "e8d17401",
   "metadata": {},
   "outputs": [],
   "source": [
    "# Load in the training melanoma masks\n",
    "t_mel_csv = pd.read_csv(r\"../../Data/Annotations/train_mel.csv\")\n",
    "\n",
    "# Load in the training melanoma intensity annotations\n",
    "dca_t_mel_csv = pd.read_csv(r\"../../Data/Annotations/dca_intensities_train_mel.csv\")\n",
    "\n",
    "# Segregate each mask type and retain the old index\n",
    "small_dca_masks = dca_t_mel_csv.loc[dca_t_mel_csv['Small_DCA'] == 1].reset_index(drop = False)\n",
    "medium_dca_masks = dca_t_mel_csv.loc[dca_t_mel_csv['Medium_DCA'] == 1].reset_index(drop = False)\n",
    "large_dca_masks = dca_t_mel_csv.loc[dca_t_mel_csv['Large_DCA'] == 1].reset_index(drop = False)\n",
    "oth_dca_masks = dca_t_mel_csv.loc[dca_t_mel_csv['Oth'] == 1].reset_index(drop = False)"
   ]
  },
  {
   "cell_type": "code",
   "execution_count": 5,
   "id": "83fff727",
   "metadata": {},
   "outputs": [],
   "source": [
    "# Retrieve names of all images with no borders and reindex to make it easier to read in\n",
    "t_mel_no_borders = t_mel_csv.loc[t_mel_csv['Borders'] == 0].reset_index(drop = True)"
   ]
  },
  {
   "cell_type": "markdown",
   "id": "b321ea6f",
   "metadata": {},
   "source": [
    "-----------\n",
    "## Mask and Save images to corresponding directories"
   ]
  },
  {
   "cell_type": "code",
   "execution_count": 10,
   "id": "1b846c4e",
   "metadata": {},
   "outputs": [],
   "source": [
    "# Define the new directory filepaths to store masked images in\n",
    "input_filepaths = [r'../../Data/Modification_Testing_Data/input/small/',\n",
    "                   r'../../Data/Modification_Testing_Data/input/medium/',\n",
    "                   r'../../Data/Modification_Testing_Data/input/large/',\n",
    "                   r'../../Data/Modification_Testing_Data/input/oth/',\n",
    "                   r'../../Data/Modification_Testing_Data/input/gt/']"
   ]
  },
  {
   "cell_type": "code",
   "execution_count": 12,
   "id": "eb1feeac",
   "metadata": {},
   "outputs": [],
   "source": [
    "# Specify the number of images required \n",
    "num_images = 100\n",
    "\n",
    "# Clear all of the files in the filepath ready for new file creation\n",
    "#### ONLY EXECUTE THIS IF YOU WANT TO CLEAR THE DIRECTORY ####\n",
    "for path in input_filepaths:\n",
    "    for file in os.listdir(path):\n",
    "        os.remove(os.path.join(path, file))\n",
    "##############################################################\n",
    "\n",
    "# Superimpose and save DCA's (including ground truth copy)\n",
    "for i in range(num_images):\n",
    "\n",
    "    output_small = np.copy(lesions_train.images[lesions_train.filenames == t_mel_no_borders['Image_Name'][i]][0])\n",
    "    output_medium = np.copy(lesions_train.images[lesions_train.filenames == t_mel_no_borders['Image_Name'][i]][0])\n",
    "    output_large = np.copy(lesions_train.images[lesions_train.filenames == t_mel_no_borders['Image_Name'][i]][0])\n",
    "    output_oth = np.copy(lesions_train.images[lesions_train.filenames == t_mel_no_borders['Image_Name'][i]][0])\n",
    "    output_gt = np.copy(lesions_train.images[lesions_train.filenames == t_mel_no_borders['Image_Name'][i]][0])\n",
    "\n",
    "    small_mask_ind = small_dca_masks['index'][i]\n",
    "    small_mask_name = small_dca_masks['Image_Name'][i]\n",
    "    \n",
    "    medium_mask_ind = medium_dca_masks['index'][i]\n",
    "    medium_mask_name = medium_dca_masks['Image_Name'][i]\n",
    "    \n",
    "    large_mask_ind = large_dca_masks['index'][i]\n",
    "    large_mask_name = large_dca_masks['Image_Name'][i]\n",
    "    \n",
    "    oth_mask_ind = oth_dca_masks['index'][i]\n",
    "    oth_mask_name = oth_dca_masks['Image_Name'][i]\n",
    "    \n",
    "    output_small[train_mel_masks[small_mask_ind].astype(np.bool)] = 0\n",
    "    output_medium[train_mel_masks[medium_mask_ind].astype(np.bool)] = 0\n",
    "    output_large[train_mel_masks[large_mask_ind].astype(np.bool)] = 0\n",
    "    output_oth[train_mel_masks[oth_mask_ind].astype(np.bool)] = 0\n",
    "    \n",
    "    savepath_small = input_filepaths[0] + t_mel_no_borders['Image_Name'][i]\n",
    "    savepath_medium = input_filepaths[1] + t_mel_no_borders['Image_Name'][i]\n",
    "    savepath_large = input_filepaths[2] + t_mel_no_borders['Image_Name'][i]\n",
    "    savepath_oth = input_filepaths[3] + t_mel_no_borders['Image_Name'][i]\n",
    "    savepath_gt = input_filepaths[4] + t_mel_no_borders['Image_Name'][i]\n",
    "    \n",
    "    output_small = Image.fromarray(output_small)\n",
    "    output_medium = Image.fromarray(output_medium)\n",
    "    output_large = Image.fromarray(output_large)\n",
    "    output_oth = Image.fromarray(output_oth)\n",
    "    output_gt = Image.fromarray(output_gt)\n",
    "    \n",
    "    output_small.save(savepath_small)\n",
    "    output_medium.save(savepath_medium)\n",
    "    output_large.save(savepath_large)\n",
    "    output_oth.save(savepath_oth)\n",
    "    output_gt.save(savepath_gt)"
   ]
  }
 ],
 "metadata": {
  "kernelspec": {
   "display_name": "Python 3 (ipykernel)",
   "language": "python",
   "name": "python3"
  },
  "language_info": {
   "codemirror_mode": {
    "name": "ipython",
    "version": 3
   },
   "file_extension": ".py",
   "mimetype": "text/x-python",
   "name": "python",
   "nbconvert_exporter": "python",
   "pygments_lexer": "ipython3",
   "version": "3.9.5"
  }
 },
 "nbformat": 4,
 "nbformat_minor": 5
}
