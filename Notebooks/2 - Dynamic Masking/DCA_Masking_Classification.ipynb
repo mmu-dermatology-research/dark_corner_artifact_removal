{
 "cells": [
  {
   "cell_type": "markdown",
   "id": "82ecabae",
   "metadata": {},
   "source": [
    "# DCA Masking Classification\n",
    "\n",
    "This notebook loads in all of the masks that have been generated and calculates the DCA intensity present in the mask. This is then recorded and saved into a .csv.\n",
    "\n",
    "The calculation used to calculate the DCA intensity is as follows:\n",
    "\n",
    "$(\\sum_{pixel_i} pixel_i = 255) \\div 501.76 $\n",
    "\n",
    "This amounts to percentage of the image covered by white pixels."
   ]
  },
  {
   "cell_type": "markdown",
   "id": "7ac0af1e",
   "metadata": {},
   "source": [
    "## Standard Imports"
   ]
  },
  {
   "cell_type": "code",
   "execution_count": 1,
   "id": "758b2f03",
   "metadata": {},
   "outputs": [],
   "source": [
    "# append custom system path for custom modules folder in directory if not already\n",
    "import sys\n",
    "if  '../../Modules' not in sys.path:\n",
    "    sys.path.insert(0, '../../Modules')\n",
    "\n",
    "import pandas as pd\n",
    "import numpy as np\n",
    "from PIL import Image\n",
    "import os, os.path\n",
    "import matplotlib as mpl\n",
    "import matplotlib.pyplot as plt\n",
    "from sklearn.utils import Bunch\n",
    "import cv2 as cv\n",
    "import image_modifications as im # custom image modification module\n",
    "import isic_data as isic\n",
    "from math import ceil"
   ]
  },
  {
   "cell_type": "markdown",
   "id": "29080692",
   "metadata": {},
   "source": [
    "------------\n",
    "\n",
    "## Generate .csv files"
   ]
  },
  {
   "cell_type": "code",
   "execution_count": 10,
   "id": "a3b4d6a3",
   "metadata": {},
   "outputs": [],
   "source": [
    "data_filepaths = [r\"../../Data/DCA_Masks/train/mel/\", \n",
    "                  r\"../../Data/DCA_Masks/train/oth/\", \n",
    "                  r\"../../Data/DCA_Masks/val/mel/\", \n",
    "                  r\"../../Data/DCA_Masks/val/oth/\"]\n",
    "\n",
    "csvs = [r\"../../Data/Annotations/dca_intensities_train_mel.csv\",\n",
    "       r\"../../Data/Annotations/dca_intensities_train_oth.csv\",\n",
    "       r\"../../Data/Annotations/dca_intensities_val_mel.csv\",\n",
    "       r\"../../Data/Annotations/dca_intensities_val_oth.csv\"]\n",
    "\n",
    "# iterate through each of the filepaths\n",
    "for i, filepath in enumerate(csvs):\n",
    "    # load in the csv\n",
    "    csv = pd.read_csv(filepath)\n",
    "    \n",
    "    # if the csv is empty, data needs adding\n",
    "    if csv.empty:\n",
    "        # set blank column lists\n",
    "        cols = [[],[],[],[],[]]\n",
    "        # iterate over each image in the corresponding directory\n",
    "        for img in os.listdir(data_filepaths[i]):\n",
    "            # add the filename to col 0\n",
    "            cols[0].append(str(img))\n",
    "            \n",
    "            # load the image data as ndarray\n",
    "            img_data = np.asarray(Image.open(os.path.join(data_filepaths[i],img)))\n",
    "            \n",
    "            # count the white pixels in the image (this is the dca region)\n",
    "            white_px = np.sum(img_data == 255)\n",
    "            # calculate the intensity %\n",
    "            intensity = white_px // (50176/100)\n",
    "            \n",
    "            # modify csv columns accordingly\n",
    "            if intensity < 1:\n",
    "                cols[1].append(0) # small\n",
    "                cols[2].append(0) # med\n",
    "                cols[3].append(0) # large\n",
    "                cols[4].append(1) # oth\n",
    "            elif intensity >= 1 and intensity < 25:\n",
    "                cols[1].append(1)\n",
    "                cols[2].append(0)\n",
    "                cols[3].append(0)\n",
    "                cols[4].append(0)\n",
    "            elif intensity >= 25 and intensity < 50:\n",
    "                cols[1].append(0)\n",
    "                cols[2].append(1)\n",
    "                cols[3].append(0)\n",
    "                cols[4].append(0)\n",
    "            elif intensity >= 50:\n",
    "                cols[1].append(0)\n",
    "                cols[2].append(0)\n",
    "                cols[3].append(1)\n",
    "                cols[4].append(0)\n",
    "        \n",
    "        # turn cols into a dataframe\n",
    "        fndf = pd.DataFrame(cols)\n",
    "        # transpose to match appropriate shape\n",
    "        fndf = fndf.transpose()\n",
    "        # append the original col names to new dataframe\n",
    "        col_names = csv.columns\n",
    "        fndf.columns = col_names\n",
    "        \n",
    "        # append data to original csv\n",
    "        csv = csv.append(fndf)\n",
    "        \n",
    "        # save csv\n",
    "        csv.to_csv(filepath, index = False)"
   ]
  }
 ],
 "metadata": {
  "kernelspec": {
   "display_name": "Python 3 (ipykernel)",
   "language": "python",
   "name": "python3"
  },
  "language_info": {
   "codemirror_mode": {
    "name": "ipython",
    "version": 3
   },
   "file_extension": ".py",
   "mimetype": "text/x-python",
   "name": "python",
   "nbconvert_exporter": "python",
   "pygments_lexer": "ipython3",
   "version": "3.9.7"
  }
 },
 "nbformat": 4,
 "nbformat_minor": 5
}
